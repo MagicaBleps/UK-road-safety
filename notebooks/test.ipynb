{
 "cells": [
  {
   "cell_type": "code",
   "execution_count": 11,
   "metadata": {},
   "outputs": [
    {
     "name": "stdout",
     "output_type": "stream",
     "text": [
      "The autoreload extension is already loaded. To reload it, use:\n",
      "  %reload_ext autoreload\n",
      "WARNING:tensorflow:Model was constructed with shape (None, 10, 1) for input KerasTensor(type_spec=TensorSpec(shape=(None, 10, 1), dtype=tf.float32, name='lstm_61_input'), name='lstm_61_input', description=\"created by layer 'lstm_61_input'\"), but it was called on an input with incompatible shape (None, 1, 1).\n",
      "1/1 [==============================] - 1s 577ms/step\n"
     ]
    },
    {
     "data": {
      "text/plain": [
       "{'Week 1:': 0,\n",
       " 'Week 2:': 0,\n",
       " 'Week 3:': 0,\n",
       " 'Week 4:': 0,\n",
       " 'Week 5:': 0,\n",
       " 'Week 6:': 0,\n",
       " 'Week 7:': 0,\n",
       " 'Week 8:': 0,\n",
       " 'Week 9:': 0,\n",
       " 'Week 10:': 0}"
      ]
     },
     "execution_count": 11,
     "metadata": {},
     "output_type": "execute_result"
    }
   ],
   "source": [
    "import tensorflow as tf\n",
    "import numpy as np\n",
    "import sys\n",
    "import os\n",
    "import matplotlib.pyplot as plt\n",
    "import seaborn as sns\n",
    "import numpy as np\n",
    "\n",
    "%load_ext autoreload\n",
    "%autoreload 2\n",
    "\n",
    "sys.path.append(os.path.dirname(sys.path[0]))\n",
    "\n",
    "model_loaded = tf.keras.models.load_model('../uk_road_safety/model/gcpvj1')\n",
    "X_api = np.load('../uk_road_safety/data/X_gcpvj1.npy')\n",
    "y_pred_loaded = np.round(np.array(model_loaded.predict(X_api))).reshape(10,1)\n",
    "predictions={}\n",
    "for i,p in enumerate(y_pred_loaded):\n",
    "    predictions[f'Week {i+1}:']=int(p[0])\n",
    "predictions"
   ]
  }
 ],
 "metadata": {
  "kernelspec": {
   "display_name": "Python 3.10.6 64-bit ('UK-road-safety')",
   "language": "python",
   "name": "python3"
  },
  "language_info": {
   "codemirror_mode": {
    "name": "ipython",
    "version": 3
   },
   "file_extension": ".py",
   "mimetype": "text/x-python",
   "name": "python",
   "nbconvert_exporter": "python",
   "pygments_lexer": "ipython3",
   "version": "3.10.6"
  },
  "orig_nbformat": 4,
  "vscode": {
   "interpreter": {
    "hash": "4b1aeb74382e8f893234a3f4120a1c3d15ee715275f64b4c74d4725c92433881"
   }
  }
 },
 "nbformat": 4,
 "nbformat_minor": 2
}
