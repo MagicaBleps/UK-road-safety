{
 "cells": [
  {
   "cell_type": "code",
   "execution_count": 4,
   "metadata": {},
   "outputs": [
    {
     "ename": "",
     "evalue": "",
     "output_type": "error",
     "traceback": [
      "\u001b[1;31mCanceled future for execute_request message before replies were done"
     ]
    },
    {
     "ename": "",
     "evalue": "",
     "output_type": "error",
     "traceback": [
      "\u001b[1;31mThe Kernel crashed while executing code in the the current cell or a previous cell. Please review the code in the cell(s) to identify a possible cause of the failure. Click <a href='https://aka.ms/vscodeJupyterKernelCrash'>here</a> for more info. View Jupyter <a href='command:jupyter.viewOutput'>log</a> for further details."
     ]
    }
   ],
   "source": [
    "import pandas as pd\n",
    "\n",
    "#Loading the original tables into dataframes\n",
    "#df_accident=pd.read_csv('~/code/MagicaBleps/mapping-road-safety/raw_data/dft-road-casualty-statistics-accident-1979-2021.csv', sep=',', header=0)\n",
    "#df_vehicle=pd.read_csv('~/code/MagicaBleps/mapping-road-safety/raw_data/dft-road-casualty-statistics-vehicle-1979-2021.csv', sep=',', header=0)\n",
    "#df_casualty=pd.read_csv('~/code/MagicaBleps/mapping-road-safety/raw_data/dft-road-casualty-statistics-casualty-1979-2021.csv', sep=',', header=0)"
   ]
  },
  {
   "cell_type": "code",
   "execution_count": 2,
   "metadata": {},
   "outputs": [],
   "source": [
    "#Filtering the dataframes to get dta from 1999 only\n",
    "#df_accident_1999=df_accident[df_accident['accident_year']>=1999]\n",
    "#df_vehicle_1999=df_vehicle[df_vehicle['accident_year']>=1999]\n",
    "#df_casualty_1999=df_casualty[df_casualty['accident_year']>=1999]"
   ]
  },
  {
   "cell_type": "code",
   "execution_count": 3,
   "metadata": {},
   "outputs": [],
   "source": [
    "#Exporting the data from 1999 as csv files --> the new raw data files\n",
    "#df_accident_1999.to_csv('~/code/MagicaBleps/mapping-road-safety/raw_data/dft-road-casualty-statistics-accident-1999-2021.csv')\n",
    "#df_vehicle_1999.to_csv('~/code/MagicaBleps/mapping-road-safety/raw_data/dft-road-casualty-statistics-vehicle-1999-2021.csv')\n",
    "#df_casualty_1999.to_csv('~/code/MagicaBleps/mapping-road-safety/raw_data/dft-road-casualty-statistics-casualty-1999-2021.csv')"
   ]
  },
  {
   "cell_type": "code",
   "execution_count": null,
   "metadata": {},
   "outputs": [],
   "source": []
  }
 ],
 "metadata": {
  "kernelspec": {
   "display_name": "Python 3.10.6 64-bit ('shims')",
   "language": "python",
   "name": "python3"
  },
  "language_info": {
   "codemirror_mode": {
    "name": "ipython",
    "version": 3
   },
   "file_extension": ".py",
   "mimetype": "text/x-python",
   "name": "python",
   "nbconvert_exporter": "python",
   "pygments_lexer": "ipython3",
   "version": "3.10.6"
  },
  "orig_nbformat": 4,
  "vscode": {
   "interpreter": {
    "hash": "d49714bb71f32629ce079186ad18db6ce48942c8822899b4d160b5a86cf960ae"
   }
  }
 },
 "nbformat": 4,
 "nbformat_minor": 2
}
