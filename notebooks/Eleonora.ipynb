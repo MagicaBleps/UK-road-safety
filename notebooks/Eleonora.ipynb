{
 "cells": [
  {
   "cell_type": "code",
   "execution_count": 3,
   "metadata": {},
   "outputs": [
    {
     "name": "stderr",
     "output_type": "stream",
     "text": [
      "/tmp/ipykernel_6414/229815338.py:2: DtypeWarning: Columns (0,2,15,16,35) have mixed types. Specify dtype option on import or set low_memory=False.\n",
      "  df_accident=pd.read_csv('~/code/MagicaBleps/UK-road-safety/raw_data/dft-road-casualty-statistics-accident-1979-2021.csv', sep=',', header=0)\n"
     ]
    }
   ],
   "source": [
    "#Loading the original tables into dataframes\n",
    "#df_accident=pd.read_csv('~/code/MagicaBleps/UK-road-safety/raw_data/dft-road-casualty-statistics-accident-1979-2021.csv', sep=',', header=0)\n",
    "#df_vehicle=pd.read_csv('~/code/MagicaBleps/UK-road-safety/raw_data/dft-road-casualty-statistics-vehicle-1979-2021.csv', sep=',', header=0)\n",
    "#df_casualty=pd.read_csv('~/code/MagicaBleps/UK-road-safety/raw_data/dft-road-casualty-statistics-casualty-1979-2021.csv', sep=',', header=0)"
   ]
  },
  {
   "cell_type": "code",
   "execution_count": 2,
   "metadata": {},
   "outputs": [
    {
     "name": "stderr",
     "output_type": "stream",
     "text": [
      "2022-12-14 10:05:00.825354: I tensorflow/core/platform/cpu_feature_guard.cc:193] This TensorFlow binary is optimized with oneAPI Deep Neural Network Library (oneDNN) to use the following CPU instructions in performance-critical operations:  AVX2 FMA\n",
      "To enable them in other operations, rebuild TensorFlow with the appropriate compiler flags.\n",
      "2022-12-14 10:05:01.005321: W tensorflow/compiler/xla/stream_executor/platform/default/dso_loader.cc:64] Could not load dynamic library 'libcudart.so.11.0'; dlerror: libcudart.so.11.0: cannot open shared object file: No such file or directory\n",
      "2022-12-14 10:05:01.005350: I tensorflow/compiler/xla/stream_executor/cuda/cudart_stub.cc:29] Ignore above cudart dlerror if you do not have a GPU set up on your machine.\n",
      "2022-12-14 10:05:02.067115: W tensorflow/compiler/xla/stream_executor/platform/default/dso_loader.cc:64] Could not load dynamic library 'libnvinfer.so.7'; dlerror: libnvinfer.so.7: cannot open shared object file: No such file or directory\n",
      "2022-12-14 10:05:02.067292: W tensorflow/compiler/xla/stream_executor/platform/default/dso_loader.cc:64] Could not load dynamic library 'libnvinfer_plugin.so.7'; dlerror: libnvinfer_plugin.so.7: cannot open shared object file: No such file or directory\n",
      "2022-12-14 10:05:02.067306: W tensorflow/compiler/tf2tensorrt/utils/py_utils.cc:38] TF-TRT Warning: Cannot dlopen some TensorRT libraries. If you would like to use Nvidia GPU with TensorRT, please make sure the missing libraries mentioned above are installed properly.\n"
     ]
    }
   ],
   "source": [
    "import pygeohash as gh\n",
    "import pandas as pd\n",
    "import sys\n",
    "import os\n",
    "import matplotlib.pyplot as plt\n",
    "import seaborn as sns\n",
    "import numpy as np\n",
    "\n",
    "%load_ext autoreload\n",
    "%autoreload 2\n",
    "\n",
    "sys.path.append(os.path.dirname(sys.path[0]))\n",
    "\n",
    "from uk_road_safety.python.data_cleaning import prepare_data_for_groupby, add_geohash\n",
    "from uk_road_safety.python.grouped_data import data_for_analysis\n",
    "from uk_road_safety.python import mlmodel"
   ]
  },
  {
   "cell_type": "code",
   "execution_count": 2,
   "metadata": {},
   "outputs": [],
   "source": [
    "#Filtering the dataframes to get dta from 1999 only\n",
    "#df_accident_1999=df_accident[df_accident['accident_year']>=1999]\n",
    "#df_vehicle_1999=df_vehicle[df_vehicle['accident_year']>=1999]\n",
    "#df_casualty_1999=df_casualty[df_casualty['accident_year']>=1999]"
   ]
  },
  {
   "cell_type": "code",
   "execution_count": 3,
   "metadata": {},
   "outputs": [],
   "source": [
    "#Exporting the data from 1999 as csv files --> the new raw data files\n",
    "#df_accident_1999.to_csv('~/code/MagicaBleps/UK-road-safety/raw_data/dft-road-casualty-statistics-accident-1999-2021.csv')\n",
    "#df_vehicle_1999.to_csv('~/code/MagicaBleps/UK-road-safety/raw_data/dft-road-casualty-statistics-vehicle-1999-2021.csv')\n",
    "#df_casualty_1999.to_csv('~/code/MagicaBleps/UK-road-safety/raw_data/dft-road-casualty-statistics-casualty-1999-2021.csv')"
   ]
  },
  {
   "cell_type": "code",
   "execution_count": 3,
   "metadata": {},
   "outputs": [
    {
     "data": {
      "text/html": [
       "<div>\n",
       "<style scoped>\n",
       "    .dataframe tbody tr th:only-of-type {\n",
       "        vertical-align: middle;\n",
       "    }\n",
       "\n",
       "    .dataframe tbody tr th {\n",
       "        vertical-align: top;\n",
       "    }\n",
       "\n",
       "    .dataframe thead th {\n",
       "        text-align: right;\n",
       "    }\n",
       "</style>\n",
       "<table border=\"1\" class=\"dataframe\">\n",
       "  <thead>\n",
       "    <tr style=\"text-align: right;\">\n",
       "      <th></th>\n",
       "      <th>accident_year</th>\n",
       "      <th>longitude</th>\n",
       "      <th>latitude</th>\n",
       "      <th>accident_severity</th>\n",
       "      <th>number_of_vehicles</th>\n",
       "      <th>number_of_casualties</th>\n",
       "      <th>date</th>\n",
       "      <th>day_of_week</th>\n",
       "      <th>time</th>\n",
       "    </tr>\n",
       "  </thead>\n",
       "  <tbody>\n",
       "    <tr>\n",
       "      <th>4883216</th>\n",
       "      <td>1999</td>\n",
       "      <td>-0.271752</td>\n",
       "      <td>51.715661</td>\n",
       "      <td>3</td>\n",
       "      <td>1</td>\n",
       "      <td>1</td>\n",
       "      <td>25/12/1999</td>\n",
       "      <td>7</td>\n",
       "      <td>09:30</td>\n",
       "    </tr>\n",
       "    <tr>\n",
       "      <th>4883217</th>\n",
       "      <td>1999</td>\n",
       "      <td>-0.239977</td>\n",
       "      <td>51.695136</td>\n",
       "      <td>3</td>\n",
       "      <td>2</td>\n",
       "      <td>1</td>\n",
       "      <td>17/12/1999</td>\n",
       "      <td>6</td>\n",
       "      <td>18:38</td>\n",
       "    </tr>\n",
       "    <tr>\n",
       "      <th>4883218</th>\n",
       "      <td>1999</td>\n",
       "      <td>-0.270037</td>\n",
       "      <td>51.715096</td>\n",
       "      <td>3</td>\n",
       "      <td>2</td>\n",
       "      <td>2</td>\n",
       "      <td>15/12/1999</td>\n",
       "      <td>4</td>\n",
       "      <td>18:04</td>\n",
       "    </tr>\n",
       "    <tr>\n",
       "      <th>4883219</th>\n",
       "      <td>1999</td>\n",
       "      <td>-0.263233</td>\n",
       "      <td>51.711309</td>\n",
       "      <td>2</td>\n",
       "      <td>2</td>\n",
       "      <td>1</td>\n",
       "      <td>02/12/1999</td>\n",
       "      <td>5</td>\n",
       "      <td>04:10</td>\n",
       "    </tr>\n",
       "    <tr>\n",
       "      <th>4883220</th>\n",
       "      <td>1999</td>\n",
       "      <td>-0.227225</td>\n",
       "      <td>51.688200</td>\n",
       "      <td>3</td>\n",
       "      <td>4</td>\n",
       "      <td>3</td>\n",
       "      <td>04/12/1999</td>\n",
       "      <td>7</td>\n",
       "      <td>09:51</td>\n",
       "    </tr>\n",
       "  </tbody>\n",
       "</table>\n",
       "</div>"
      ],
      "text/plain": [
       "         accident_year  longitude   latitude  accident_severity  \\\n",
       "4883216           1999  -0.271752  51.715661                  3   \n",
       "4883217           1999  -0.239977  51.695136                  3   \n",
       "4883218           1999  -0.270037  51.715096                  3   \n",
       "4883219           1999  -0.263233  51.711309                  2   \n",
       "4883220           1999  -0.227225  51.688200                  3   \n",
       "\n",
       "         number_of_vehicles  number_of_casualties        date  day_of_week  \\\n",
       "4883216                   1                     1  25/12/1999            7   \n",
       "4883217                   2                     1  17/12/1999            6   \n",
       "4883218                   2                     2  15/12/1999            4   \n",
       "4883219                   2                     1  02/12/1999            5   \n",
       "4883220                   4                     3  04/12/1999            7   \n",
       "\n",
       "          time  \n",
       "4883216  09:30  \n",
       "4883217  18:38  \n",
       "4883218  18:04  \n",
       "4883219  04:10  \n",
       "4883220  09:51  "
      ]
     },
     "execution_count": 3,
     "metadata": {},
     "output_type": "execute_result"
    }
   ],
   "source": [
    "df_accidents=pd.read_csv('~/code/MagicaBleps/UK-road-safety/raw_data/Clean_data_1999-2021.csv', index_col=0)\n",
    "df_accidents.head()"
   ]
  },
  {
   "cell_type": "code",
   "execution_count": 4,
   "metadata": {},
   "outputs": [],
   "source": [
    "data_preprocessed=add_geohash(df_accidents,6)\n",
    "#data_preprocessed.to_csv('~/code/MagicaBleps/UK-road-safety/raw_data/preprocessed-1999-2021.csv')"
   ]
  },
  {
   "cell_type": "code",
   "execution_count": 5,
   "metadata": {},
   "outputs": [],
   "source": [
    "data_preprocessed['date']=pd.to_datetime(data_preprocessed['date'],format='%d/%m/%Y')"
   ]
  },
  {
   "cell_type": "code",
   "execution_count": 26,
   "metadata": {},
   "outputs": [
    {
     "data": {
      "text/plain": [
       "(184578, 1)"
      ]
     },
     "execution_count": 26,
     "metadata": {},
     "output_type": "execute_result"
    }
   ],
   "source": [
    "hashes=pd.DataFrame(data_preprocessed[['geohash','accident_year']].groupby('geohash').count())\n",
    "hashes.columns=['Accidents']\n",
    "hashes.sort_values('Accidents',inplace=True,ascending=False)\n",
    "hashes.shape"
   ]
  },
  {
   "cell_type": "code",
   "execution_count": 27,
   "metadata": {},
   "outputs": [
    {
     "data": {
      "text/html": [
       "<div>\n",
       "<style scoped>\n",
       "    .dataframe tbody tr th:only-of-type {\n",
       "        vertical-align: middle;\n",
       "    }\n",
       "\n",
       "    .dataframe tbody tr th {\n",
       "        vertical-align: top;\n",
       "    }\n",
       "\n",
       "    .dataframe thead th {\n",
       "        text-align: right;\n",
       "    }\n",
       "</style>\n",
       "<table border=\"1\" class=\"dataframe\">\n",
       "  <thead>\n",
       "    <tr style=\"text-align: right;\">\n",
       "      <th></th>\n",
       "      <th>Accidents</th>\n",
       "    </tr>\n",
       "    <tr>\n",
       "      <th>geohash</th>\n",
       "      <th></th>\n",
       "    </tr>\n",
       "  </thead>\n",
       "  <tbody>\n",
       "    <tr>\n",
       "      <th>gcpvj0</th>\n",
       "      <td>2045</td>\n",
       "    </tr>\n",
       "    <tr>\n",
       "      <th>gcpvhc</th>\n",
       "      <td>1959</td>\n",
       "    </tr>\n",
       "    <tr>\n",
       "      <th>gcpvj4</th>\n",
       "      <td>1871</td>\n",
       "    </tr>\n",
       "    <tr>\n",
       "      <th>gcpvj1</th>\n",
       "      <td>1816</td>\n",
       "    </tr>\n",
       "    <tr>\n",
       "      <th>gcpuv2</th>\n",
       "      <td>1744</td>\n",
       "    </tr>\n",
       "    <tr>\n",
       "      <th>...</th>\n",
       "      <td>...</td>\n",
       "    </tr>\n",
       "    <tr>\n",
       "      <th>gcpvps</th>\n",
       "      <td>1019</td>\n",
       "    </tr>\n",
       "    <tr>\n",
       "      <th>gcpufz</th>\n",
       "      <td>1019</td>\n",
       "    </tr>\n",
       "    <tr>\n",
       "      <th>gcpvq2</th>\n",
       "      <td>1012</td>\n",
       "    </tr>\n",
       "    <tr>\n",
       "      <th>gcpvp5</th>\n",
       "      <td>1011</td>\n",
       "    </tr>\n",
       "    <tr>\n",
       "      <th>gcpvnr</th>\n",
       "      <td>1006</td>\n",
       "    </tr>\n",
       "  </tbody>\n",
       "</table>\n",
       "<p>68 rows × 1 columns</p>\n",
       "</div>"
      ],
      "text/plain": [
       "         Accidents\n",
       "geohash           \n",
       "gcpvj0        2045\n",
       "gcpvhc        1959\n",
       "gcpvj4        1871\n",
       "gcpvj1        1816\n",
       "gcpuv2        1744\n",
       "...            ...\n",
       "gcpvps        1019\n",
       "gcpufz        1019\n",
       "gcpvq2        1012\n",
       "gcpvp5        1011\n",
       "gcpvnr        1006\n",
       "\n",
       "[68 rows x 1 columns]"
      ]
     },
     "execution_count": 27,
     "metadata": {},
     "output_type": "execute_result"
    }
   ],
   "source": [
    "hashes=hashes[hashes['Accidents']>=1000]\n",
    "hashes"
   ]
  },
  {
   "cell_type": "code",
   "execution_count": 28,
   "metadata": {},
   "outputs": [],
   "source": [
    "data=data_preprocessed[data_preprocessed['geohash'].isin(hashes.index.tolist())]"
   ]
  },
  {
   "cell_type": "code",
   "execution_count": 29,
   "metadata": {},
   "outputs": [
    {
     "data": {
      "text/plain": [
       "(85173, 10)"
      ]
     },
     "execution_count": 29,
     "metadata": {},
     "output_type": "execute_result"
    }
   ],
   "source": [
    "data.shape"
   ]
  },
  {
   "cell_type": "code",
   "execution_count": 61,
   "metadata": {},
   "outputs": [],
   "source": [
    "FOLD_LENGTH=120 #each fold spans over 10 years\n",
    "FOLD_STRIDE=12 #we have a fold every 1 year\n",
    "INPUT_LENGTH=6 #every X_i sequence is 6 months long\n",
    "TRAIN_TEST_RATIO=.80 \n",
    "OUTPUT_LENGTH=1 #we want to predict the number of accidents in the next month (y_i length)\n",
    "SEQUENCE_STRIDE = 1"
   ]
  },
  {
   "cell_type": "code",
   "execution_count": 62,
   "metadata": {},
   "outputs": [
    {
     "data": {
      "text/plain": [
       "((68, 90, 6, 1), (68, 90, 1, 1))"
      ]
     },
     "execution_count": 62,
     "metadata": {},
     "output_type": "execute_result"
    }
   ],
   "source": [
    "X_train=[]\n",
    "y_train=[]\n",
    "X_test=[]\n",
    "y_test=[]\n",
    "for hash in hashes.index.tolist():\n",
    "    data_hash=data[data['geohash']==hash]\n",
    "    data_series=data_for_analysis(data,'M')\n",
    "    folds=mlmodel.get_folds(data_series,FOLD_LENGTH,FOLD_STRIDE)\n",
    "    fold=folds[4]\n",
    "    (fold_train, fold_test) = mlmodel.train_test_split(fold, TRAIN_TEST_RATIO, INPUT_LENGTH)\n",
    "    X_train_fold, y_train_fold = mlmodel.get_X_y_strides(fold_train, INPUT_LENGTH, OUTPUT_LENGTH, SEQUENCE_STRIDE)\n",
    "    X_test_fold, y_test_fold = mlmodel.get_X_y_strides(fold_test, INPUT_LENGTH, OUTPUT_LENGTH, SEQUENCE_STRIDE)   \n",
    "    X_train.append(X_train_fold)\n",
    "    X_test.append(X_test_fold)\n",
    "    y_train.append(y_train_fold)\n",
    "    y_test.append(y_test_fold)\n",
    "np.array(X_train).shape, np.array(y_train).shape"
   ]
  },
  {
   "cell_type": "code",
   "execution_count": 63,
   "metadata": {},
   "outputs": [],
   "source": [
    "X_train_all_hashes=np.array(X_train[0])\n",
    "X_test_all_hashes=np.array(X_test[0])\n",
    "y_train_all_hashes=np.array(y_train[0])\n",
    "y_test_all_hashes=np.array(y_test[0])\n",
    "\n",
    "for i in range(1,np.array(X_train).shape[0]):\n",
    "    X_train_all_hashes=np.vstack((X_train_all_hashes,X_train[i]))\n",
    "    y_train_all_hashes=np.vstack((y_train_all_hashes,y_train[i]))\n",
    "    \n",
    "for i in range(1,np.array(X_test).shape[0]):\n",
    "    X_test_all_hashes=np.vstack((X_test_all_hashes,X_test[i]))\n",
    "    y_test_all_hashes=np.vstack((y_test_all_hashes,y_test[i]))"
   ]
  },
  {
   "cell_type": "code",
   "execution_count": 64,
   "metadata": {},
   "outputs": [
    {
     "data": {
      "text/plain": [
       "(6120, 6, 1)"
      ]
     },
     "execution_count": 64,
     "metadata": {},
     "output_type": "execute_result"
    }
   ],
   "source": [
    "X_train_all_hashes.shape"
   ]
  },
  {
   "cell_type": "code",
   "execution_count": 65,
   "metadata": {},
   "outputs": [
    {
     "data": {
      "text/plain": [
       "(6120, 1, 1)"
      ]
     },
     "execution_count": 65,
     "metadata": {},
     "output_type": "execute_result"
    }
   ],
   "source": [
    "y_train_all_hashes.shape"
   ]
  },
  {
   "cell_type": "code",
   "execution_count": 80,
   "metadata": {},
   "outputs": [
    {
     "name": "stdout",
     "output_type": "stream",
     "text": [
      "Model: \"sequential_6\"\n",
      "_________________________________________________________________\n",
      " Layer (type)                Output Shape              Param #   \n",
      "=================================================================\n",
      " lstm_4 (LSTM)               (None, 30)                3840      \n",
      "                                                                 \n",
      " dense_12 (Dense)            (None, 20)                620       \n",
      "                                                                 \n",
      " dropout_8 (Dropout)         (None, 20)                0         \n",
      "                                                                 \n",
      " dense_13 (Dense)            (None, 10)                210       \n",
      "                                                                 \n",
      " dropout_9 (Dropout)         (None, 10)                0         \n",
      "                                                                 \n",
      " dense_14 (Dense)            (None, 1)                 11        \n",
      "                                                                 \n",
      "=================================================================\n",
      "Total params: 4,681\n",
      "Trainable params: 4,681\n",
      "Non-trainable params: 0\n",
      "_________________________________________________________________\n"
     ]
    }
   ],
   "source": [
    "model = mlmodel.init_model(X_train_all_hashes)\n",
    "model.summary()"
   ]
  },
  {
   "cell_type": "code",
   "execution_count": 81,
   "metadata": {},
   "outputs": [
    {
     "name": "stdout",
     "output_type": "stream",
     "text": [
      "Epoch 1/500\n",
      "268/268 [==============================] - 7s 14ms/step - loss: 82545.2109 - mae: 283.0533 - val_loss: 53065.9727 - val_mae: 226.1390\n",
      "Epoch 2/500\n",
      "268/268 [==============================] - 3s 11ms/step - loss: 21820.3711 - mae: 124.9588 - val_loss: 3135.3206 - val_mae: 46.3920\n",
      "Epoch 3/500\n",
      "268/268 [==============================] - 3s 10ms/step - loss: 12766.9375 - mae: 91.4553 - val_loss: 2967.1812 - val_mae: 45.0031\n",
      "Epoch 4/500\n",
      "268/268 [==============================] - 3s 10ms/step - loss: 12459.7754 - mae: 90.7635 - val_loss: 2692.2380 - val_mae: 42.6880\n",
      "Epoch 5/500\n",
      "268/268 [==============================] - 3s 10ms/step - loss: 12066.3398 - mae: 88.6056 - val_loss: 2744.3506 - val_mae: 43.5048\n",
      "Epoch 6/500\n",
      "268/268 [==============================] - 3s 10ms/step - loss: 11483.2930 - mae: 86.8421 - val_loss: 2835.9058 - val_mae: 44.3466\n",
      "Epoch 7/500\n",
      "268/268 [==============================] - 3s 10ms/step - loss: 11470.1113 - mae: 87.1781 - val_loss: 2806.1729 - val_mae: 44.3658\n",
      "Epoch 8/500\n",
      "268/268 [==============================] - 3s 10ms/step - loss: 11966.2012 - mae: 89.3063 - val_loss: 2722.6606 - val_mae: 43.7251\n",
      "Epoch 9/500\n",
      "268/268 [==============================] - 3s 10ms/step - loss: 11871.1045 - mae: 88.3998 - val_loss: 2108.7769 - val_mae: 37.7835\n",
      "Epoch 10/500\n",
      "268/268 [==============================] - 3s 10ms/step - loss: 11504.5859 - mae: 87.0998 - val_loss: 2590.9128 - val_mae: 42.5601\n",
      "Epoch 11/500\n",
      "268/268 [==============================] - 3s 10ms/step - loss: 11362.6514 - mae: 86.1068 - val_loss: 3241.7549 - val_mae: 48.3879\n",
      "Epoch 12/500\n",
      "268/268 [==============================] - 2s 9ms/step - loss: 11124.5430 - mae: 85.5429 - val_loss: 2492.0693 - val_mae: 41.7921\n",
      "Epoch 13/500\n",
      "268/268 [==============================] - 3s 11ms/step - loss: 11105.7227 - mae: 84.8728 - val_loss: 2368.4001 - val_mae: 40.4601\n",
      "Epoch 14/500\n",
      "268/268 [==============================] - 2s 9ms/step - loss: 10981.2725 - mae: 84.9528 - val_loss: 2316.9590 - val_mae: 39.9610\n",
      "Epoch 15/500\n",
      "268/268 [==============================] - 3s 11ms/step - loss: 11377.6035 - mae: 86.3792 - val_loss: 1885.9468 - val_mae: 35.8118\n",
      "Epoch 16/500\n",
      "268/268 [==============================] - 3s 10ms/step - loss: 10824.3350 - mae: 84.6489 - val_loss: 2348.9290 - val_mae: 40.3642\n",
      "Epoch 17/500\n",
      "268/268 [==============================] - 3s 10ms/step - loss: 11040.8633 - mae: 85.5977 - val_loss: 2452.2061 - val_mae: 41.5204\n",
      "Epoch 18/500\n",
      "268/268 [==============================] - 3s 10ms/step - loss: 10839.4199 - mae: 84.6176 - val_loss: 2222.1580 - val_mae: 39.0711\n",
      "Epoch 19/500\n",
      "268/268 [==============================] - 3s 10ms/step - loss: 10988.9531 - mae: 85.1865 - val_loss: 2445.1575 - val_mae: 41.4925\n",
      "Epoch 20/500\n",
      "268/268 [==============================] - 3s 10ms/step - loss: 10881.7734 - mae: 84.1114 - val_loss: 1949.7805 - val_mae: 36.4911\n",
      "Epoch 21/500\n",
      "268/268 [==============================] - 3s 9ms/step - loss: 10642.8604 - mae: 83.6854 - val_loss: 2283.9153 - val_mae: 39.8236\n",
      "Epoch 22/500\n",
      "268/268 [==============================] - 3s 10ms/step - loss: 11019.2314 - mae: 85.7822 - val_loss: 2099.4810 - val_mae: 37.8778\n",
      "Epoch 23/500\n",
      "268/268 [==============================] - 3s 11ms/step - loss: 10718.4004 - mae: 83.5806 - val_loss: 1967.1741 - val_mae: 36.6952\n",
      "Epoch 24/500\n",
      "268/268 [==============================] - 3s 10ms/step - loss: 10808.1650 - mae: 84.1978 - val_loss: 2582.0493 - val_mae: 42.7199\n",
      "Epoch 25/500\n",
      "268/268 [==============================] - 3s 10ms/step - loss: 10463.7891 - mae: 82.6828 - val_loss: 2255.0830 - val_mae: 39.4480\n"
     ]
    }
   ],
   "source": [
    "model, history = mlmodel.fit_model(model,X_train_all_hashes,y_train_all_hashes)"
   ]
  },
  {
   "cell_type": "code",
   "execution_count": 82,
   "metadata": {},
   "outputs": [
    {
     "data": {
      "image/png": "[encoded data removed]",
      "text/plain": [
       "<Figure size 2000x700 with 2 Axes>"
      ]
     },
     "metadata": {},
     "output_type": "display_data"
    }
   ],
   "source": [
    "mlmodel.plot_history(history);"
   ]
  },
  {
   "cell_type": "code",
   "execution_count": 69,
   "metadata": {},
   "outputs": [],
   "source": [
    "baseline_model=mlmodel.init_baseline(OUTPUT_LENGTH)"
   ]
  },
  {
   "cell_type": "code",
   "execution_count": 83,
   "metadata": {},
   "outputs": [
    {
     "name": "stdout",
     "output_type": "stream",
     "text": [
      "51/51 [==============================] - 0s 4ms/step\n",
      "51/51 [==============================] - 0s 2ms/step\n"
     ]
    }
   ],
   "source": [
    "y_pred=np.round(np.array(model.predict(X_test_all_hashes)[-1])).astype(int)\n",
    "y_bas_pred=baseline_model.predict(X_test_all_hashes)[-1]"
   ]
  },
  {
   "cell_type": "code",
   "execution_count": 84,
   "metadata": {},
   "outputs": [
    {
     "data": {
      "text/plain": [
       "(array([284]), array([[306]]), array([[260]]))"
      ]
     },
     "execution_count": 84,
     "metadata": {},
     "output_type": "execute_result"
    }
   ],
   "source": [
    "y_pred,y_bas_pred,y_test_all_hashes[-1,:,:]"
   ]
  },
  {
   "cell_type": "code",
   "execution_count": 88,
   "metadata": {},
   "outputs": [],
   "source": [
    "X = data_preprocessed[data_preprocessed['geohash']=='gcpvj0'].tail(6)"
   ]
  },
  {
   "cell_type": "code",
   "execution_count": 89,
   "metadata": {},
   "outputs": [
    {
     "data": {
      "text/html": [
       "<div>\n",
       "<style scoped>\n",
       "    .dataframe tbody tr th:only-of-type {\n",
       "        vertical-align: middle;\n",
       "    }\n",
       "\n",
       "    .dataframe tbody tr th {\n",
       "        vertical-align: top;\n",
       "    }\n",
       "\n",
       "    .dataframe thead th {\n",
       "        text-align: right;\n",
       "    }\n",
       "</style>\n",
       "<table border=\"1\" class=\"dataframe\">\n",
       "  <thead>\n",
       "    <tr style=\"text-align: right;\">\n",
       "      <th></th>\n",
       "      <th>accident_year</th>\n",
       "      <th>longitude</th>\n",
       "      <th>latitude</th>\n",
       "      <th>accident_severity</th>\n",
       "      <th>number_of_vehicles</th>\n",
       "      <th>number_of_casualties</th>\n",
       "      <th>date</th>\n",
       "      <th>day_of_week</th>\n",
       "      <th>time</th>\n",
       "      <th>geohash</th>\n",
       "    </tr>\n",
       "  </thead>\n",
       "  <tbody>\n",
       "    <tr>\n",
       "      <th>8622439</th>\n",
       "      <td>2021</td>\n",
       "      <td>-0.124845</td>\n",
       "      <td>51.508820</td>\n",
       "      <td>3</td>\n",
       "      <td>2</td>\n",
       "      <td>1</td>\n",
       "      <td>2021-11-11</td>\n",
       "      <td>5</td>\n",
       "      <td>04:32</td>\n",
       "      <td>gcpvj0</td>\n",
       "    </tr>\n",
       "    <tr>\n",
       "      <th>8622987</th>\n",
       "      <td>2021</td>\n",
       "      <td>-0.122484</td>\n",
       "      <td>51.506300</td>\n",
       "      <td>3</td>\n",
       "      <td>2</td>\n",
       "      <td>1</td>\n",
       "      <td>2021-11-18</td>\n",
       "      <td>5</td>\n",
       "      <td>14:10</td>\n",
       "      <td>gcpvj0</td>\n",
       "    </tr>\n",
       "    <tr>\n",
       "      <th>8623160</th>\n",
       "      <td>2021</td>\n",
       "      <td>-0.125402</td>\n",
       "      <td>51.508595</td>\n",
       "      <td>3</td>\n",
       "      <td>3</td>\n",
       "      <td>1</td>\n",
       "      <td>2021-11-21</td>\n",
       "      <td>1</td>\n",
       "      <td>03:43</td>\n",
       "      <td>gcpvj0</td>\n",
       "    </tr>\n",
       "    <tr>\n",
       "      <th>8623388</th>\n",
       "      <td>2021</td>\n",
       "      <td>-0.121712</td>\n",
       "      <td>51.507205</td>\n",
       "      <td>2</td>\n",
       "      <td>1</td>\n",
       "      <td>2</td>\n",
       "      <td>2021-11-24</td>\n",
       "      <td>4</td>\n",
       "      <td>12:58</td>\n",
       "      <td>gcpvj0</td>\n",
       "    </tr>\n",
       "    <tr>\n",
       "      <th>8625156</th>\n",
       "      <td>2021</td>\n",
       "      <td>-0.126665</td>\n",
       "      <td>51.507320</td>\n",
       "      <td>2</td>\n",
       "      <td>2</td>\n",
       "      <td>1</td>\n",
       "      <td>2021-12-19</td>\n",
       "      <td>1</td>\n",
       "      <td>21:00</td>\n",
       "      <td>gcpvj0</td>\n",
       "    </tr>\n",
       "    <tr>\n",
       "      <th>8625294</th>\n",
       "      <td>2021</td>\n",
       "      <td>-0.126209</td>\n",
       "      <td>51.508248</td>\n",
       "      <td>3</td>\n",
       "      <td>1</td>\n",
       "      <td>1</td>\n",
       "      <td>2021-12-22</td>\n",
       "      <td>4</td>\n",
       "      <td>11:05</td>\n",
       "      <td>gcpvj0</td>\n",
       "    </tr>\n",
       "  </tbody>\n",
       "</table>\n",
       "</div>"
      ],
      "text/plain": [
       "         accident_year  longitude   latitude  accident_severity  \\\n",
       "8622439           2021  -0.124845  51.508820                  3   \n",
       "8622987           2021  -0.122484  51.506300                  3   \n",
       "8623160           2021  -0.125402  51.508595                  3   \n",
       "8623388           2021  -0.121712  51.507205                  2   \n",
       "8625156           2021  -0.126665  51.507320                  2   \n",
       "8625294           2021  -0.126209  51.508248                  3   \n",
       "\n",
       "         number_of_vehicles  number_of_casualties       date  day_of_week  \\\n",
       "8622439                   2                     1 2021-11-11            5   \n",
       "8622987                   2                     1 2021-11-18            5   \n",
       "8623160                   3                     1 2021-11-21            1   \n",
       "8623388                   1                     2 2021-11-24            4   \n",
       "8625156                   2                     1 2021-12-19            1   \n",
       "8625294                   1                     1 2021-12-22            4   \n",
       "\n",
       "          time geohash  \n",
       "8622439  04:32  gcpvj0  \n",
       "8622987  14:10  gcpvj0  \n",
       "8623160  03:43  gcpvj0  \n",
       "8623388  12:58  gcpvj0  \n",
       "8625156  21:00  gcpvj0  \n",
       "8625294  11:05  gcpvj0  "
      ]
     },
     "execution_count": 89,
     "metadata": {},
     "output_type": "execute_result"
    }
   ],
   "source": [
    "X"
   ]
  },
  {
   "cell_type": "code",
   "execution_count": 87,
   "metadata": {},
   "outputs": [
    {
     "name": "stdout",
     "output_type": "stream",
     "text": [
      "WARNING:tensorflow:Model was constructed with shape (None, 6, 1) for input KerasTensor(type_spec=TensorSpec(shape=(None, 6, 1), dtype=tf.float32, name='lstm_4_input'), name='lstm_4_input', description=\"created by layer 'lstm_4_input'\"), but it was called on an input with incompatible shape (None,).\n"
     ]
    },
    {
     "ename": "ValueError",
     "evalue": "in user code:\n\n    File \"/home/ele/.pyenv/versions/3.10.6/envs/UK-road-safety/lib/python3.10/site-packages/keras/engine/training.py\", line 2137, in predict_function  *\n        return step_function(self, iterator)\n    File \"/home/ele/.pyenv/versions/3.10.6/envs/UK-road-safety/lib/python3.10/site-packages/keras/engine/training.py\", line 2123, in step_function  **\n        outputs = model.distribute_strategy.run(run_step, args=(data,))\n    File \"/home/ele/.pyenv/versions/3.10.6/envs/UK-road-safety/lib/python3.10/site-packages/keras/engine/training.py\", line 2111, in run_step  **\n        outputs = model.predict_step(data)\n    File \"/home/ele/.pyenv/versions/3.10.6/envs/UK-road-safety/lib/python3.10/site-packages/keras/engine/training.py\", line 2079, in predict_step\n        return self(x, training=False)\n    File \"/home/ele/.pyenv/versions/3.10.6/envs/UK-road-safety/lib/python3.10/site-packages/keras/utils/traceback_utils.py\", line 70, in error_handler\n        raise e.with_traceback(filtered_tb) from None\n    File \"/home/ele/.pyenv/versions/3.10.6/envs/UK-road-safety/lib/python3.10/site-packages/keras/engine/input_spec.py\", line 232, in assert_input_compatibility\n        raise ValueError(\n\n    ValueError: Exception encountered when calling layer 'sequential_6' (type Sequential).\n    \n    Input 0 of layer \"lstm_4\" is incompatible with the layer: expected ndim=3, found ndim=1. Full shape received: (None,)\n    \n    Call arguments received by layer 'sequential_6' (type Sequential):\n      • inputs=tf.Tensor(shape=(None,), dtype=float32)\n      • training=False\n      • mask=None\n",
     "output_type": "error",
     "traceback": [
      "\u001b[0;31m---------------------------------------------------------------------------\u001b[0m",
      "\u001b[0;31mValueError\u001b[0m                                Traceback (most recent call last)",
      "Cell \u001b[0;32mIn[87], line 1\u001b[0m\n\u001b[0;32m----> 1\u001b[0m model\u001b[39m.\u001b[39;49mpredict(X[\u001b[39m0\u001b[39;49m])\n",
      "File \u001b[0;32m~/.pyenv/versions/3.10.6/envs/UK-road-safety/lib/python3.10/site-packages/keras/utils/traceback_utils.py:70\u001b[0m, in \u001b[0;36mfilter_traceback.<locals>.error_handler\u001b[0;34m(*args, **kwargs)\u001b[0m\n\u001b[1;32m     67\u001b[0m     filtered_tb \u001b[39m=\u001b[39m _process_traceback_frames(e\u001b[39m.\u001b[39m__traceback__)\n\u001b[1;32m     68\u001b[0m     \u001b[39m# To get the full stack trace, call:\u001b[39;00m\n\u001b[1;32m     69\u001b[0m     \u001b[39m# `tf.debugging.disable_traceback_filtering()`\u001b[39;00m\n\u001b[0;32m---> 70\u001b[0m     \u001b[39mraise\u001b[39;00m e\u001b[39m.\u001b[39mwith_traceback(filtered_tb) \u001b[39mfrom\u001b[39;00m \u001b[39mNone\u001b[39m\n\u001b[1;32m     71\u001b[0m \u001b[39mfinally\u001b[39;00m:\n\u001b[1;32m     72\u001b[0m     \u001b[39mdel\u001b[39;00m filtered_tb\n",
      "File \u001b[0;32m/tmp/__autograph_generated_file17qilduf.py:15\u001b[0m, in \u001b[0;36mouter_factory.<locals>.inner_factory.<locals>.tf__predict_function\u001b[0;34m(iterator)\u001b[0m\n\u001b[1;32m     13\u001b[0m \u001b[39mtry\u001b[39;00m:\n\u001b[1;32m     14\u001b[0m     do_return \u001b[39m=\u001b[39m \u001b[39mTrue\u001b[39;00m\n\u001b[0;32m---> 15\u001b[0m     retval_ \u001b[39m=\u001b[39m ag__\u001b[39m.\u001b[39mconverted_call(ag__\u001b[39m.\u001b[39mld(step_function), (ag__\u001b[39m.\u001b[39mld(\u001b[39mself\u001b[39m), ag__\u001b[39m.\u001b[39mld(iterator)), \u001b[39mNone\u001b[39;00m, fscope)\n\u001b[1;32m     16\u001b[0m \u001b[39mexcept\u001b[39;00m:\n\u001b[1;32m     17\u001b[0m     do_return \u001b[39m=\u001b[39m \u001b[39mFalse\u001b[39;00m\n",
      "\u001b[0;31mValueError\u001b[0m: in user code:\n\n    File \"/home/ele/.pyenv/versions/3.10.6/envs/UK-road-safety/lib/python3.10/site-packages/keras/engine/training.py\", line 2137, in predict_function  *\n        return step_function(self, iterator)\n    File \"/home/ele/.pyenv/versions/3.10.6/envs/UK-road-safety/lib/python3.10/site-packages/keras/engine/training.py\", line 2123, in step_function  **\n        outputs = model.distribute_strategy.run(run_step, args=(data,))\n    File \"/home/ele/.pyenv/versions/3.10.6/envs/UK-road-safety/lib/python3.10/site-packages/keras/engine/training.py\", line 2111, in run_step  **\n        outputs = model.predict_step(data)\n    File \"/home/ele/.pyenv/versions/3.10.6/envs/UK-road-safety/lib/python3.10/site-packages/keras/engine/training.py\", line 2079, in predict_step\n        return self(x, training=False)\n    File \"/home/ele/.pyenv/versions/3.10.6/envs/UK-road-safety/lib/python3.10/site-packages/keras/utils/traceback_utils.py\", line 70, in error_handler\n        raise e.with_traceback(filtered_tb) from None\n    File \"/home/ele/.pyenv/versions/3.10.6/envs/UK-road-safety/lib/python3.10/site-packages/keras/engine/input_spec.py\", line 232, in assert_input_compatibility\n        raise ValueError(\n\n    ValueError: Exception encountered when calling layer 'sequential_6' (type Sequential).\n    \n    Input 0 of layer \"lstm_4\" is incompatible with the layer: expected ndim=3, found ndim=1. Full shape received: (None,)\n    \n    Call arguments received by layer 'sequential_6' (type Sequential):\n      • inputs=tf.Tensor(shape=(None,), dtype=float32)\n      • training=False\n      • mask=None\n"
     ]
    }
   ],
   "source": [
    "model.predict(X)"
   ]
  },
  {
   "cell_type": "code",
   "execution_count": null,
   "metadata": {},
   "outputs": [],
   "source": []
  }
 ],
 "metadata": {
  "kernelspec": {
   "display_name": "UK-road-safety",
   "language": "python",
   "name": "python3"
  },
  "language_info": {
   "codemirror_mode": {
    "name": "ipython",
    "version": 3
   },
   "file_extension": ".py",
   "mimetype": "text/x-python",
   "name": "python",
   "nbconvert_exporter": "python",
   "pygments_lexer": "ipython3",
   "version": "3.10.6 (main, Oct 14 2022, 12:45:52) [GCC 11.2.0]"
  },
  "orig_nbformat": 4,
  "vscode": {
   "interpreter": {
    "hash": "4b1aeb74382e8f893234a3f4120a1c3d15ee715275f64b4c74d4725c92433881"
   }
  }
 },
 "nbformat": 4,
 "nbformat_minor": 2
}
