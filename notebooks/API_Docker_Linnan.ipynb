{
 "cells": [
  {
   "attachments": {},
   "cell_type": "markdown",
   "metadata": {},
   "source": [
    "# Project Setup 🛠"
   ]
  },
  {
   "attachments": {},
   "cell_type": "markdown",
   "metadata": {},
   "source": [
    "## include setup.py:"
   ]
  },
  {
   "cell_type": "code",
   "execution_count": null,
   "metadata": {},
   "outputs": [],
   "source": [
    "from setuptools import find_packages\n",
    "from setuptools import setup\n",
    "\n",
    "with open(\"requirements.txt\") as f:\n",
    "    content = f.readlines()\n",
    "requirements = [x.strip() for x in content if \"git+\" not in x]\n",
    "\n",
    "setup(name='uk_road_safety',\n",
    "      version=\"0.0.1\",\n",
    "      description=\"UK road safety Model (api_pred)\",\n",
    "      install_requires=requirements,\n",
    "      packages=find_packages(),\n",
    "      test_suite=\"tests\",\n",
    "      # include_package_data: to install data from MANIFEST.in\n",
    "      include_package_data=True,\n",
    "      zip_safe=False)"
   ]
  },
  {
   "attachments": {},
   "cell_type": "markdown",
   "metadata": {},
   "source": [
    "## .env file:"
   ]
  },
  {
   "cell_type": "code",
   "execution_count": null,
   "metadata": {},
   "outputs": [],
   "source": [
    "LOCAL_DATA_PATH=~/code/MagicaBleps/UK-road-safety/raw_data/data\n",
    "LOCAL_REGISTRY_PATH=~/code/MagicaBleps/UK-road-safety/raw_data/training_outputs\n",
    "\n",
    "\n",
    "#Docker\n",
    "IMAGE=ukroadsafety\n",
    "#GCP\n",
    "PROJECT=wagon-bootcamp-365515\n",
    "GCR_MULTI_REGION=eu.gcr.io\n",
    "MEMORY=2Gi\n",
    "REGION=europe-west1\n"
   ]
  },
  {
   "attachments": {},
   "cell_type": "markdown",
   "metadata": {},
   "source": [
    "## requirements.txt file:"
   ]
  },
  {
   "cell_type": "code",
   "execution_count": null,
   "metadata": {},
   "outputs": [],
   "source": [
    "pygeohash\n",
    "pandas\n",
    "numpy\n",
    "matplotlib\n",
    "seaborn\n",
    "#tensorflow\n",
    "\n",
    "# API\n",
    "fastapi         # API framework\n",
    "pytz            # time zone management\n",
    "uvicorn         # web server\n",
    "# tests\n",
    "httpx           # HTTP client\n",
    "pytest-asyncio  # asynchronous I/O support for pytest"
   ]
  },
  {
   "attachments": {},
   "cell_type": "markdown",
   "metadata": {},
   "source": [
    "## add to Makefile to test Fastapi locally"
   ]
  },
  {
   "cell_type": "code",
   "execution_count": null,
   "metadata": {},
   "outputs": [],
   "source": [
    "run_api:\n",
    "\tuvicorn uk_road_safety.API.api:app --reload"
   ]
  },
  {
   "attachments": {},
   "cell_type": "markdown",
   "metadata": {},
   "source": [
    "## add __init__.py to the root of def folder and empty __init__.py to subfolder."
   ]
  },
  {
   "cell_type": "code",
   "execution_count": null,
   "metadata": {},
   "outputs": [],
   "source": [
    "from os.path import isfile\n",
    "from os.path import dirname\n",
    "\n",
    "version_file = '{}/version.txt'.format(dirname(__file__))\n",
    "\n",
    "if isfile(version_file):\n",
    "    with open(version_file) as version_file:\n",
    "        __version__ = version_file.read().strip()\n"
   ]
  },
  {
   "attachments": {},
   "cell_type": "markdown",
   "metadata": {},
   "source": [
    "# Build the API 📡"
   ]
  },
  {
   "attachments": {},
   "cell_type": "markdown",
   "metadata": {},
   "source": [
    "After project Setup, create api file:"
   ]
  },
  {
   "cell_type": "code",
   "execution_count": null,
   "metadata": {},
   "outputs": [],
   "source": [
    "from datetime import datetime\n",
    "from fastapi import FastAPI\n",
    "from fastapi.middleware.cors import CORSMiddleware\n",
    "import pandas as pd\n",
    "import numpy as np\n",
    "import tensorflow as tf\n",
    "import json\n",
    "from fastapi.responses import HTMLResponse\n",
    "\n",
    "app = FastAPI()\n",
    "\n",
    "\n",
    "app.add_middleware(\n",
    "    CORSMiddleware,\n",
    "    allow_origins=[\"*\"],  # Allows all origins\n",
    "    allow_credentials=True,\n",
    "    allow_methods=[\"*\"],  # Allows all methods\n",
    "    allow_headers=[\"*\"],  # Allows all headers\n",
    ")\n",
    "\n",
    "@app.get(\"/predict\")\n",
    "def predict(hash):\n",
    "    model = tf.keras.models.load_model(f'model/{hash}')\n",
    "    X = np.load(f'data/X_{hash}.npy')\n",
    "    y_pred = np.round(np.array(model.predict(X))).reshape(6,1)\n",
    "    predictions={}\n",
    "    months={0:'1_January',1:'2_February',2:'3_March',3:'4_April',4:'5_May',5:'6_June'}\n",
    "    for i,p in enumerate(y_pred):\n",
    "        predictions[months[i]]=int(p[0])\n",
    "    return predictions\n",
    "\n",
    "@app.get(\"/show_map\")\n",
    "def show_map(year):\n",
    "    filename= 'map/'+str(year)+'.html'\n",
    "    with open(filename, \"r\", encoding='utf-8') as f:\n",
    "        html_content=f.read()\n",
    "    return HTMLResponse(content=html_content, status_code=200)\n",
    "\n",
    "@app.get(\"/\")\n",
    "def root():\n",
    "   return {'greeting': 'Hello, We are team 6: UK road Safety'}"
   ]
  },
  {
   "attachments": {},
   "cell_type": "markdown",
   "metadata": {},
   "source": [
    "Now, you can run the API locally with the code in command: make run_api"
   ]
  },
  {
   "cell_type": "markdown",
   "metadata": {},
   "source": []
  },
  {
   "attachments": {},
   "cell_type": "markdown",
   "metadata": {},
   "source": [
    "http://localhost:8000\n"
   ]
  },
  {
   "attachments": {},
   "cell_type": "markdown",
   "metadata": {},
   "source": [
    "http://localhost:8000/docs"
   ]
  },
  {
   "attachments": {},
   "cell_type": "markdown",
   "metadata": {},
   "source": [
    "# Build a Docker Image for our API 🐳"
   ]
  },
  {
   "attachments": {},
   "cell_type": "markdown",
   "metadata": {},
   "source": [
    "## Create Dockerfile:"
   ]
  },
  {
   "cell_type": "code",
   "execution_count": null,
   "metadata": {},
   "outputs": [],
   "source": [
    "#FROM python:3.10.6-slim\n",
    "FROM tensorflow/tensorflow:2.11.0\n",
    "COPY . .\n",
    "RUN pip install --upgrade pip\n",
    "RUN pip install .\n",
    "CMD uvicorn uk_road_safety.API.api:app --host 0.0.0.0 --port $PORT"
   ]
  },
  {
   "attachments": {},
   "cell_type": "markdown",
   "metadata": {},
   "source": [
    "💻 Choose a Docker image name and add it to your .env"
   ]
  },
  {
   "cell_type": "code",
   "execution_count": null,
   "metadata": {},
   "outputs": [],
   "source": [
    "IMAGE=ukroadsafety"
   ]
  },
  {
   "cell_type": "markdown",
   "metadata": {},
   "source": [
    "💻 Once built, the image should be visible in the list of images built with the following command:"
   ]
  },
  {
   "cell_type": "code",
   "execution_count": null,
   "metadata": {},
   "outputs": [],
   "source": [
    "docker images"
   ]
  },
  {
   "cell_type": "markdown",
   "metadata": {},
   "source": [
    "Check the API Image"
   ]
  },
  {
   "cell_type": "code",
   "execution_count": null,
   "metadata": {},
   "outputs": [],
   "source": [
    "docker run -it -e PORT=8000 -p 8000:8000 $IMAGE:dev sh"
   ]
  },
  {
   "cell_type": "markdown",
   "metadata": {},
   "source": [
    "Exit the terminal and stop the container at any moment with:"
   ]
  },
  {
   "cell_type": "code",
   "execution_count": null,
   "metadata": {},
   "outputs": [],
   "source": [
    "exit"
   ]
  },
  {
   "cell_type": "markdown",
   "metadata": {},
   "source": [
    "## Run the API Image"
   ]
  },
  {
   "cell_type": "code",
   "execution_count": null,
   "metadata": {},
   "outputs": [],
   "source": [
    "docker run -e PORT=8000 -p 8000:8000 --env-file .env $IMAGE:dev"
   ]
  },
  {
   "cell_type": "markdown",
   "metadata": {},
   "source": [
    "## Stop the API Image"
   ]
  },
  {
   "attachments": {},
   "cell_type": "markdown",
   "metadata": {},
   "source": [
    "First, run the code: docker ps"
   ]
  },
  {
   "attachments": {},
   "cell_type": "markdown",
   "metadata": {},
   "source": [
    "Second, copy the image id: XXXXXXXXXXX"
   ]
  },
  {
   "attachments": {},
   "cell_type": "markdown",
   "metadata": {},
   "source": [
    "Third, run the code: docker stop xxxxxxxxxx. to stop the docker image."
   ]
  },
  {
   "cell_type": "markdown",
   "metadata": {},
   "source": [
    "## Deploy the API 🌎"
   ]
  },
  {
   "attachments": {},
   "cell_type": "markdown",
   "metadata": {},
   "source": [
    "Change your base image [Only for Intel processor users]"
   ]
  },
  {
   "attachments": {},
   "cell_type": "markdown",
   "metadata": {},
   "source": [
    "💻 Update your Dockerfile base image with either tensorflow/tensorflow:2.11.0 (if you are on an Intel processor only)"
   ]
  },
  {
   "attachments": {},
   "cell_type": "markdown",
   "metadata": {},
   "source": [
    "💻 Remove tensorflow from your requirements.txt because it is now pre-build with the image."
   ]
  },
  {
   "attachments": {},
   "cell_type": "markdown",
   "metadata": {},
   "source": [
    "## Setup"
   ]
  },
  {
   "attachments": {},
   "cell_type": "markdown",
   "metadata": {},
   "source": [
    "First, let’s make sure to enable the Google Container Registry API for your project in GCP."
   ]
  },
  {
   "attachments": {},
   "cell_type": "markdown",
   "metadata": {},
   "source": [
    "https://console.cloud.google.com/apis/enableflow?apiid=containerregistry.googleapis.com&redirect=https:%2F%2Fcloud.google.com%2Fcontainer-registry%2Fdocs%2Fquickstart&project=wagon-bootcamp-365515\n"
   ]
  },
  {
   "attachments": {},
   "cell_type": "markdown",
   "metadata": {},
   "source": [
    "Once this is done, let’s allow the docker command to push an image to GCP."
   ]
  },
  {
   "cell_type": "code",
   "execution_count": null,
   "metadata": {},
   "outputs": [],
   "source": [
    "gcloud auth configure-docker"
   ]
  },
  {
   "attachments": {},
   "cell_type": "markdown",
   "metadata": {},
   "source": [
    "Build and Push the Image to GCR"
   ]
  },
  {
   "attachments": {},
   "cell_type": "markdown",
   "metadata": {},
   "source": [
    "Add a GCR_MULTI_REGION variable to your project configuration and set it to eu.gcr.io."
   ]
  },
  {
   "cell_type": "code",
   "execution_count": null,
   "metadata": {},
   "outputs": [],
   "source": [
    "docker build -t $GCR_MULTI_REGION/$PROJECT/$IMAGE:prod ."
   ]
  },
  {
   "cell_type": "markdown",
   "metadata": {},
   "source": [
    "Again, let’s make sure that our image runs correctly, so as to avoid wasting time pushing a broken image to the cloud."
   ]
  },
  {
   "cell_type": "code",
   "execution_count": null,
   "metadata": {},
   "outputs": [],
   "source": [
    "docker run -e PORT=8000 -p 8000:8000 --env-file .env $GCR_MULTI_REGION/$PROJECT/$IMAGE:prod"
   ]
  },
  {
   "cell_type": "markdown",
   "metadata": {},
   "source": [
    "Visit http://localhost:8000/ and check whether the API is running as expected."
   ]
  },
  {
   "cell_type": "markdown",
   "metadata": {},
   "source": [
    "We can now push our image to Google Container Registry."
   ]
  },
  {
   "cell_type": "code",
   "execution_count": null,
   "metadata": {},
   "outputs": [],
   "source": [
    "docker push $GCR_MULTI_REGION/$PROJECT/$IMAGE:prod"
   ]
  },
  {
   "cell_type": "markdown",
   "metadata": {},
   "source": [
    "The image should be visible in the GCP console."
   ]
  },
  {
   "cell_type": "markdown",
   "metadata": {},
   "source": [
    "https://console.cloud.google.com/gcr/images/wagon-bootcamp-365515?project=wagon-bootcamp-365515"
   ]
  },
  {
   "cell_type": "markdown",
   "metadata": {},
   "source": [
    "## Deploy the Container Registry Image to Google Cloud Run"
   ]
  },
  {
   "cell_type": "markdown",
   "metadata": {},
   "source": [
    "Add a MEMORY variable to your project configuration and set it to 2Gi.\n",
    "\n",
    "👉 This will allow your container to run with 2GiB (= Gibibyte) of memory"
   ]
  },
  {
   "attachments": {},
   "cell_type": "markdown",
   "metadata": {},
   "source": [
    "💻 Create a .env.yaml file containing all the necessary environment variables"
   ]
  },
  {
   "cell_type": "code",
   "execution_count": null,
   "metadata": {},
   "outputs": [],
   "source": [
    "LOCAL_DATA_PATH: ~/code/MagicaBleps/UK-road-safety/raw_data/data\n",
    "LOCAL_REGISTRY_PATH: ~/code/MagicaBleps/UK-road-safety/raw_data/training_outputs\n",
    "\n",
    "\n",
    "#Docker\n",
    "IMAGE: ukroadsafety\n",
    "#GCP\n",
    "PROJECT: wagon-bootcamp-365515\n",
    "GCR_MULTI_REGION: eu.gcr.io\n",
    "MEMORY: 2Gi\n",
    "REGION: europe-west1"
   ]
  },
  {
   "attachments": {},
   "cell_type": "markdown",
   "metadata": {},
   "source": [
    "💻 Using the gcloud run deploy --help documentation, identify a parameter that allows you to pass environment variables to your container on deployment"
   ]
  },
  {
   "cell_type": "code",
   "execution_count": null,
   "metadata": {},
   "outputs": [],
   "source": [
    "gcloud run deploy --env-vars-file .env.yaml"
   ]
  },
  {
   "attachments": {},
   "cell_type": "markdown",
   "metadata": {},
   "source": [
    "Let’s run one last command 🤞"
   ]
  },
  {
   "cell_type": "code",
   "execution_count": null,
   "metadata": {},
   "outputs": [],
   "source": [
    "gcloud run deploy --image $GCR_MULTI_REGION/$PROJECT/$IMAGE:prod --memory $MEMORY --region $REGION --env-vars-file .env.yaml"
   ]
  },
  {
   "cell_type": "markdown",
   "metadata": {},
   "source": [
    "After confirmation, you should see something like this, indicating that the service is live 🎉"
   ]
  },
  {
   "attachments": {},
   "cell_type": "markdown",
   "metadata": {},
   "source": [
    "Service name (wagon-data-tpl-image):\n",
    "\n",
    "Allow unauthenticated invocations to [wagon-data-tpl-image] (y/N)?  y\n",
    "\n",
    "Deploying container to Cloud Run service [wagon-data-tpl-image] in project \n",
    "[le-wagon-data] region [europe-west1]\n",
    "\n",
    "✓ Deploying new service... Done.\n",
    "\n",
    "  ✓ Creating Revision... Revision deployment finished. Waiting for health \n",
    "  check to begin.\n",
    "\n",
    "  ✓ Routing traffic...\n",
    "  \n",
    "  ✓ Setting IAM Policy...\n",
    "\n",
    "Done.\n",
    "\n",
    "Service [wagon-data-tpl-image] revision [wagon-data-tpl-image-00001-kup] has \n",
    "been deployed and is serving 100 percent of traffic.\n",
    "\n",
    "Service URL: https://wagon-data-tpl-image-xi54eseqrq-ew.a.run.app"
   ]
  },
  {
   "attachments": {},
   "cell_type": "markdown",
   "metadata": {},
   "source": [
    "Any developer in the world 🌍 is now able to browse to the deployed url and get a prediction using the API 🤖!"
   ]
  },
  {
   "cell_type": "markdown",
   "metadata": {},
   "source": []
  }
 ],
 "metadata": {
  "kernelspec": {
   "display_name": "Python 3",
   "language": "python",
   "name": "python3"
  },
  "language_info": {
   "codemirror_mode": {
    "name": "ipython",
    "version": 3
   },
   "file_extension": ".py",
   "mimetype": "text/x-python",
   "name": "python",
   "nbconvert_exporter": "python",
   "pygments_lexer": "ipython3",
   "version": "3.10.6"
  },
  "orig_nbformat": 4,
  "vscode": {
   "interpreter": {
    "hash": "e6bbe0dd6bdbcd1208e76a4f74d4e2c0fb99e102eac4433d80345ae5e7046b5a"
   }
  }
 },
 "nbformat": 4,
 "nbformat_minor": 2
}
