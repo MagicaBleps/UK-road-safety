{
 "cells": [
  {
   "cell_type": "code",
   "execution_count": 2,
   "id": "8825df2e-8081-4a13-84ba-06a629c846f8",
   "metadata": {},
   "outputs": [],
   "source": [
    "import pygeohash as gh\n",
    "import pandas as pd\n",
    "import folium\n",
    "import geohash\n",
    "from folium.plugins import HeatMapWithTime\n",
    "from folium.plugins import MarkerCluster, HeatMap\n",
    "from folium import Marker, Circle, CircleMarker, Choropleth\n",
    "from geopandas.tools import geocode\n",
    "from collections import defaultdict, OrderedDict\n",
    "import ipywidgets as widgets\n",
    "from ipywidgets import interact, fixed, interact_manual, interactive_output\n",
    "from folium.features import DivIcon"
   ]
  },
  {
   "cell_type": "code",
   "execution_count": 3,
   "id": "a2b7153b-f7e9-452f-9d4b-57a6416f6a49",
   "metadata": {},
   "outputs": [
    {
     "name": "stderr",
     "output_type": "stream",
     "text": [
      "/var/folders/v7/fl37bh_11xn4dz8nn__9q52m0000gn/T/ipykernel_41558/2962779904.py:1: DtypeWarning: Columns (0,2,35) have mixed types. Specify dtype option on import or set low_memory=False.\n",
      "  df=pd.read_csv('accident.csv')\n"
     ]
    }
   ],
   "source": [
    "df=pd.read_csv('accident.csv')"
   ]
  },
  {
   "cell_type": "code",
   "execution_count": 4,
   "id": "97cc0613-59e6-4165-a124-73386337fbbd",
   "metadata": {},
   "outputs": [],
   "source": [
    "df['date']= pd.to_datetime(df['date'], format=\"%d/%m/%Y\")"
   ]
  },
  {
   "cell_type": "code",
   "execution_count": 5,
   "id": "95b9a865-a19f-4df7-921d-4360493b5b47",
   "metadata": {},
   "outputs": [],
   "source": [
    "df['geohash']=df.apply(lambda x: gh.encode(x.latitude, x.longitude, precision=6), axis=1)"
   ]
  },
  {
   "cell_type": "code",
   "execution_count": 6,
   "id": "0aa8355e-06da-47e1-a2bf-bc3311eae13c",
   "metadata": {},
   "outputs": [],
   "source": [
    "df1=df[['accident_year','longitude','latitude','geohash']]\n",
    "df1=df1[df1['accident_year']>=1999]"
   ]
  },
  {
   "cell_type": "code",
   "execution_count": 7,
   "id": "f8560b55-cc2f-467d-955a-176b77b1f584",
   "metadata": {},
   "outputs": [
    {
     "data": {
      "text/plain": [
       "Index(['accident_year', 'longitude', 'latitude', 'geohash'], dtype='object')"
      ]
     },
     "execution_count": 7,
     "metadata": {},
     "output_type": "execute_result"
    }
   ],
   "source": [
    "df1.columns"
   ]
  },
  {
   "cell_type": "code",
   "execution_count": 16,
   "id": "4967dd5d-ca3e-4fc0-852e-e73e4580c6cd",
   "metadata": {},
   "outputs": [],
   "source": [
    "import maps\n",
    "df1=df1.dropna(subset=['longitude'])\n",
    "df1=df1.dropna(subset=['latitude'])\n",
    "for y in range(1999,2010):\n",
    "    m= maps.visualize_data_UK(y, df1)\n",
    "    filename= str(y)+'.html'\n",
    "    m.save(filename)\n",
    "\n"
   ]
  },
  {
   "cell_type": "code",
   "execution_count": 17,
   "id": "d66bec43",
   "metadata": {},
   "outputs": [],
   "source": [
    "m= maps.visualize_data_UK(2021, df1)\n",
    "filename= str(2021)+'.html'\n",
    "m.save(filename)"
   ]
  },
  {
   "cell_type": "code",
   "execution_count": null,
   "id": "2432f9be-2b24-475f-8e09-5dc77e7722e4",
   "metadata": {},
   "outputs": [
    {
     "data": {
      "text/html": [
       "<div style=\"width:100%;\"><div style=\"position:relative;width:100%;height:0;padding-bottom:60%;\"><span style=\"color:#565656\">Make this Notebook Trusted to load map: File -> Trust Notebook</span><iframe srcdoc=\"&lt;!DOCTYPE html&gt;\n",
       "&lt;html&gt;\n",
       "&lt;head&gt;\n",
       "    \n",
       "    &lt;meta http-equiv=&quot;content-type&quot; content=&quot;text/html; charset=UTF-8&quot; /&gt;\n",
       "    \n",
       "        &lt;script&gt;\n",
       "            L_NO_TOUCH = false;\n",
       "            L_DISABLE_3D = false;\n",
       "        &lt;/script&gt;\n",
       "    \n",
       "    &lt;style&gt;html, body {width: 100%;height: 100%;margin: 0;padding: 0;}&lt;/style&gt;\n",
       "    &lt;style&gt;#map {position:absolute;top:0;bottom:0;right:0;left:0;}&lt;/style&gt;\n",
       "    &lt;script src=&quot;https://cdn.jsdelivr.net/npm/leaflet@1.6.0/dist/leaflet.js&quot;&gt;&lt;/script&gt;\n",
       "    &lt;script src=&quot;https://code.jquery.com/jquery-1.12.4.min.js&quot;&gt;&lt;/script&gt;\n",
       "    &lt;script src=&quot;https://maxcdn.bootstrapcdn.com/bootstrap/3.2.0/js/bootstrap.min.js&quot;&gt;&lt;/script&gt;\n",
       "    &lt;script src=&quot;https://cdnjs.cloudflare.com/ajax/libs/Leaflet.awesome-markers/2.0.2/leaflet.awesome-markers.js&quot;&gt;&lt;/script&gt;\n",
       "    &lt;link rel=&quot;stylesheet&quot; href=&quot;https://cdn.jsdelivr.net/npm/leaflet@1.6.0/dist/leaflet.css&quot;/&gt;\n",
       "    &lt;link rel=&quot;stylesheet&quot; href=&quot;https://maxcdn.bootstrapcdn.com/bootstrap/3.2.0/css/bootstrap.min.css&quot;/&gt;\n",
       "    &lt;link rel=&quot;stylesheet&quot; href=&quot;https://maxcdn.bootstrapcdn.com/bootstrap/3.2.0/css/bootstrap-theme.min.css&quot;/&gt;\n",
       "    &lt;link rel=&quot;stylesheet&quot; href=&quot;https://maxcdn.bootstrapcdn.com/font-awesome/4.6.3/css/font-awesome.min.css&quot;/&gt;\n",
       "    &lt;link rel=&quot;stylesheet&quot; href=&quot;https://cdnjs.cloudflare.com/ajax/libs/Leaflet.awesome-markers/2.0.2/leaflet.awesome-markers.css&quot;/&gt;\n",
       "    &lt;link rel=&quot;stylesheet&quot; href=&quot;https://cdn.jsdelivr.net/gh/python-visualization/folium/folium/templates/leaflet.awesome.rotate.min.css&quot;/&gt;\n",
       "    \n",
       "            &lt;meta name=&quot;viewport&quot; content=&quot;width=device-width,\n",
       "                initial-scale=1.0, maximum-scale=1.0, user-scalable=no&quot; /&gt;\n",
       "            &lt;style&gt;\n",
       "                #map_5012a5d72ffc42a67c76d94dd581b140 {\n",
       "                    position: relative;\n",
       "                    width: 100.0%;\n",
       "                    height: 100.0%;\n",
       "                    left: 0.0%;\n",
       "                    top: 0.0%;\n",
       "                }\n",
       "            &lt;/style&gt;\n",
       "        \n",
       "&lt;/head&gt;\n",
       "&lt;body&gt;\n",
       "    \n",
       "    \n",
       "            &lt;div class=&quot;folium-map&quot; id=&quot;map_5012a5d72ffc42a67c76d94dd581b140&quot; &gt;&lt;/div&gt;\n",
       "        \n",
       "&lt;/body&gt;\n",
       "&lt;script&gt;\n",
       "    \n",
       "    \n",
       "            var map_5012a5d72ffc42a67c76d94dd581b140 = L.map(\n",
       "                &quot;map_5012a5d72ffc42a67c76d94dd581b140&quot;,\n",
       "                {\n",
       "                    center: [51.5073219, -0.1276474],\n",
       "                    crs: L.CRS.EPSG3857,\n",
       "                    zoom: 12,\n",
       "                    zoomControl: true,\n",
       "                    preferCanvas: false,\n",
       "                }\n",
       "            );\n",
       "\n",
       "            \n",
       "\n",
       "        \n",
       "    \n",
       "            var tile_layer_7eb129303410f531b596c3df3b0e9548 = L.tileLayer(\n",
       "                &quot;https://{s}.tile.openstreetmap.org/{z}/{x}/{y}.png&quot;,\n",
       "                {&quot;attribution&quot;: &quot;Data by \\u0026copy; \\u003ca href=\\&quot;http://openstreetmap.org\\&quot;\\u003eOpenStreetMap\\u003c/a\\u003e, under \\u003ca href=\\&quot;http://www.openstreetmap.org/copyright\\&quot;\\u003eODbL\\u003c/a\\u003e.&quot;, &quot;detectRetina&quot;: false, &quot;maxNativeZoom&quot;: 18, &quot;maxZoom&quot;: 18, &quot;minZoom&quot;: 0, &quot;noWrap&quot;: false, &quot;opacity&quot;: 1, &quot;subdomains&quot;: &quot;abc&quot;, &quot;tms&quot;: false}\n",
       "            ).addTo(map_5012a5d72ffc42a67c76d94dd581b140);\n",
       "        \n",
       "    \n",
       "            var rectangle_f53ab704692e3a3922903997a5bb154d = L.rectangle(\n",
       "                [[51.5093994140625, -0.1318359375], [51.5093994140625, -0.120849609375], [51.50390625, -0.120849609375], [51.50390625, -0.1318359375]],\n",
       "                {&quot;bubblingMouseEvents&quot;: true, &quot;color&quot;: &quot;red&quot;, &quot;dashArray&quot;: null, &quot;dashOffset&quot;: null, &quot;fill&quot;: true, &quot;fillColor&quot;: &quot;red&quot;, &quot;fillOpacity&quot;: 0.2, &quot;fillRule&quot;: &quot;evenodd&quot;, &quot;lineCap&quot;: &quot;round&quot;, &quot;lineJoin&quot;: &quot;round&quot;, &quot;noClip&quot;: false, &quot;opacity&quot;: 1.0, &quot;smoothFactor&quot;: 1.0, &quot;stroke&quot;: true, &quot;weight&quot;: 5}\n",
       "            ).addTo(map_5012a5d72ffc42a67c76d94dd581b140);\n",
       "        \n",
       "    \n",
       "            var marker_ef9968e19206ffaf9e9f88c2159b6b40 = L.marker(\n",
       "                [51.50665283203125, -0.1263427734375],\n",
       "                {}\n",
       "            ).addTo(map_5012a5d72ffc42a67c76d94dd581b140);\n",
       "        \n",
       "    \n",
       "            var div_icon_231360ff323ba2f429d93c1be4bd105d = L.divIcon({&quot;className&quot;: &quot;empty&quot;, &quot;html&quot;: &quot;\\u003cdiv style=\\&quot;font-size: 20pt\\&quot;\\u003egcpvj0\\u003c/div\\u003e&quot;, &quot;iconAnchor&quot;: [0, 0], &quot;iconSize&quot;: [250, 20]});\n",
       "            marker_ef9968e19206ffaf9e9f88c2159b6b40.setIcon(div_icon_231360ff323ba2f429d93c1be4bd105d);\n",
       "        \n",
       "    \n",
       "            var rectangle_a51d00440e0f2bcf88698f00d250018b = L.rectangle(\n",
       "                [[51.514892578125, -0.1318359375], [51.514892578125, -0.120849609375], [51.5093994140625, -0.120849609375], [51.5093994140625, -0.1318359375]],\n",
       "                {&quot;bubblingMouseEvents&quot;: true, &quot;color&quot;: &quot;red&quot;, &quot;dashArray&quot;: null, &quot;dashOffset&quot;: null, &quot;fill&quot;: true, &quot;fillColor&quot;: &quot;red&quot;, &quot;fillOpacity&quot;: 0.2, &quot;fillRule&quot;: &quot;evenodd&quot;, &quot;lineCap&quot;: &quot;round&quot;, &quot;lineJoin&quot;: &quot;round&quot;, &quot;noClip&quot;: false, &quot;opacity&quot;: 1.0, &quot;smoothFactor&quot;: 1.0, &quot;stroke&quot;: true, &quot;weight&quot;: 5}\n",
       "            ).addTo(map_5012a5d72ffc42a67c76d94dd581b140);\n",
       "        \n",
       "    \n",
       "            var marker_60406ba648963de072b2768885872e0a = L.marker(\n",
       "                [51.51214599609375, -0.1263427734375],\n",
       "                {}\n",
       "            ).addTo(map_5012a5d72ffc42a67c76d94dd581b140);\n",
       "        \n",
       "    \n",
       "            var div_icon_a9416c473ded221ba20d2fec0ea1eba2 = L.divIcon({&quot;className&quot;: &quot;empty&quot;, &quot;html&quot;: &quot;\\u003cdiv style=\\&quot;font-size: 20pt\\&quot;\\u003egcpvj1\\u003c/div\\u003e&quot;, &quot;iconAnchor&quot;: [0, 0], &quot;iconSize&quot;: [250, 20]});\n",
       "            marker_60406ba648963de072b2768885872e0a.setIcon(div_icon_a9416c473ded221ba20d2fec0ea1eba2);\n",
       "        \n",
       "    \n",
       "            var rectangle_0d72d96a6fab587df39afdbbee7a1f99 = L.rectangle(\n",
       "                [[51.5203857421875, -0.1318359375], [51.5203857421875, -0.120849609375], [51.514892578125, -0.120849609375], [51.514892578125, -0.1318359375]],\n",
       "                {&quot;bubblingMouseEvents&quot;: true, &quot;color&quot;: &quot;red&quot;, &quot;dashArray&quot;: null, &quot;dashOffset&quot;: null, &quot;fill&quot;: true, &quot;fillColor&quot;: &quot;red&quot;, &quot;fillOpacity&quot;: 0.2, &quot;fillRule&quot;: &quot;evenodd&quot;, &quot;lineCap&quot;: &quot;round&quot;, &quot;lineJoin&quot;: &quot;round&quot;, &quot;noClip&quot;: false, &quot;opacity&quot;: 1.0, &quot;smoothFactor&quot;: 1.0, &quot;stroke&quot;: true, &quot;weight&quot;: 5}\n",
       "            ).addTo(map_5012a5d72ffc42a67c76d94dd581b140);\n",
       "        \n",
       "    \n",
       "            var marker_5431129854f14b1deaba68075be2fce5 = L.marker(\n",
       "                [51.51763916015625, -0.1263427734375],\n",
       "                {}\n",
       "            ).addTo(map_5012a5d72ffc42a67c76d94dd581b140);\n",
       "        \n",
       "    \n",
       "            var div_icon_6f9d5a8a3ebbaab14cdfa886976ae6f5 = L.divIcon({&quot;className&quot;: &quot;empty&quot;, &quot;html&quot;: &quot;\\u003cdiv style=\\&quot;font-size: 20pt\\&quot;\\u003egcpvj4\\u003c/div\\u003e&quot;, &quot;iconAnchor&quot;: [0, 0], &quot;iconSize&quot;: [250, 20]});\n",
       "            marker_5431129854f14b1deaba68075be2fce5.setIcon(div_icon_6f9d5a8a3ebbaab14cdfa886976ae6f5);\n",
       "        \n",
       "    \n",
       "            var rectangle_e6632120f2dd5ec29618021c1cd59b85 = L.rectangle(\n",
       "                [[51.514892578125, -0.142822265625], [51.514892578125, -0.1318359375], [51.5093994140625, -0.1318359375], [51.5093994140625, -0.142822265625]],\n",
       "                {&quot;bubblingMouseEvents&quot;: true, &quot;color&quot;: &quot;red&quot;, &quot;dashArray&quot;: null, &quot;dashOffset&quot;: null, &quot;fill&quot;: true, &quot;fillColor&quot;: &quot;red&quot;, &quot;fillOpacity&quot;: 0.2, &quot;fillRule&quot;: &quot;evenodd&quot;, &quot;lineCap&quot;: &quot;round&quot;, &quot;lineJoin&quot;: &quot;round&quot;, &quot;noClip&quot;: false, &quot;opacity&quot;: 1.0, &quot;smoothFactor&quot;: 1.0, &quot;stroke&quot;: true, &quot;weight&quot;: 5}\n",
       "            ).addTo(map_5012a5d72ffc42a67c76d94dd581b140);\n",
       "        \n",
       "    \n",
       "            var marker_a741b7638cf286ac501a415fbb579efd = L.marker(\n",
       "                [51.51214599609375, -0.1373291015625],\n",
       "                {}\n",
       "            ).addTo(map_5012a5d72ffc42a67c76d94dd581b140);\n",
       "        \n",
       "    \n",
       "            var div_icon_c4f1478a8c1e72d88760f28f0fa40a7b = L.divIcon({&quot;className&quot;: &quot;empty&quot;, &quot;html&quot;: &quot;\\u003cdiv style=\\&quot;font-size: 20pt\\&quot;\\u003egcpvhc\\u003c/div\\u003e&quot;, &quot;iconAnchor&quot;: [0, 0], &quot;iconSize&quot;: [250, 20]});\n",
       "            marker_a741b7638cf286ac501a415fbb579efd.setIcon(div_icon_c4f1478a8c1e72d88760f28f0fa40a7b);\n",
       "        \n",
       "    \n",
       "            var rectangle_266f2f00091ab62c81c51837f529caae = L.rectangle(\n",
       "                [[51.4654541015625, -0.120849609375], [51.4654541015625, -0.10986328125], [51.4599609375, -0.10986328125], [51.4599609375, -0.120849609375]],\n",
       "                {&quot;bubblingMouseEvents&quot;: true, &quot;color&quot;: &quot;red&quot;, &quot;dashArray&quot;: null, &quot;dashOffset&quot;: null, &quot;fill&quot;: true, &quot;fillColor&quot;: &quot;red&quot;, &quot;fillOpacity&quot;: 0.2, &quot;fillRule&quot;: &quot;evenodd&quot;, &quot;lineCap&quot;: &quot;round&quot;, &quot;lineJoin&quot;: &quot;round&quot;, &quot;noClip&quot;: false, &quot;opacity&quot;: 1.0, &quot;smoothFactor&quot;: 1.0, &quot;stroke&quot;: true, &quot;weight&quot;: 5}\n",
       "            ).addTo(map_5012a5d72ffc42a67c76d94dd581b140);\n",
       "        \n",
       "    \n",
       "            var marker_5d2aab7473f95202769d8e34e01ed571 = L.marker(\n",
       "                [51.46270751953125, -0.1153564453125],\n",
       "                {}\n",
       "            ).addTo(map_5012a5d72ffc42a67c76d94dd581b140);\n",
       "        \n",
       "    \n",
       "            var div_icon_47f3a5e02fc5c45a3ea2e35d3cc97d17 = L.divIcon({&quot;className&quot;: &quot;empty&quot;, &quot;html&quot;: &quot;\\u003cdiv style=\\&quot;font-size: 20pt\\&quot;\\u003egcpuv2\\u003c/div\\u003e&quot;, &quot;iconAnchor&quot;: [0, 0], &quot;iconSize&quot;: [250, 20]});\n",
       "            marker_5d2aab7473f95202769d8e34e01ed571.setIcon(div_icon_47f3a5e02fc5c45a3ea2e35d3cc97d17);\n",
       "        \n",
       "&lt;/script&gt;\n",
       "&lt;/html&gt;\" style=\"position:absolute;width:100%;height:100%;left:0;top:0;border:none !important;\" allowfullscreen webkitallowfullscreen mozallowfullscreen></iframe></div></div>"
      ],
      "text/plain": [
       "<folium.folium.Map at 0x2d3c9ec20>"
      ]
     },
     "execution_count": 13,
     "metadata": {},
     "output_type": "execute_result"
    }
   ],
   "source": [
    "import maps\n",
    "m= maps.visualize_data_gh()\n",
    "#filename= 'geohash.html'\n",
    "#m.save(filename)\n",
    "m"
   ]
  },
  {
   "cell_type": "code",
   "execution_count": null,
   "id": "0598ba6f-f27d-445d-ba68-556c89b986bd",
   "metadata": {},
   "outputs": [],
   "source": []
  },
  {
   "cell_type": "code",
   "execution_count": null,
   "id": "3fe020f0-47a6-4cc7-8a14-c232870c6bd5",
   "metadata": {},
   "outputs": [],
   "source": []
  }
 ],
 "metadata": {
  "kernelspec": {
   "display_name": "Python 3 (ipykernel)",
   "language": "python",
   "name": "python3"
  },
  "language_info": {
   "codemirror_mode": {
    "name": "ipython",
    "version": 3
   },
   "file_extension": ".py",
   "mimetype": "text/x-python",
   "name": "python",
   "nbconvert_exporter": "python",
   "pygments_lexer": "ipython3",
   "version": "3.10.6"
  },
  "vscode": {
   "interpreter": {
    "hash": "6d3455b64add104533d44b8de3a67406353957e0918ca2161a30cd043c50dfdc"
   }
  }
 },
 "nbformat": 4,
 "nbformat_minor": 5
}
