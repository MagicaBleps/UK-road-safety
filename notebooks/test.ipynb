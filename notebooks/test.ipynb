{
 "cells": [
  {
   "cell_type": "code",
   "execution_count": 5,
   "metadata": {},
   "outputs": [
    {
     "data": {
      "text/plain": [
       "{'Week 1:': 1.0,\n",
       " 'Week 2:': 1.0,\n",
       " 'Week 3:': 1.0,\n",
       " 'Week 4:': 1.0,\n",
       " 'Week 5:': 1.0,\n",
       " 'Week 6:': 0.0,\n",
       " 'Week 7:': 1.0,\n",
       " 'Week 8:': 1.0,\n",
       " 'Week 9:': 0.0,\n",
       " 'Week 10:': 0.0}"
      ]
     },
     "execution_count": 5,
     "metadata": {},
     "output_type": "execute_result"
    }
   ],
   "source": [
    "import tensorflow as tf\n",
    "import numpy as np\n",
    "\n",
    "# model_loaded = tf.keras.models.load_model('model/gcpvj0_')\n",
    "# X_api = np.load('data/X_gcpvj0.npy')\n",
    "#y_pred_loaded = np.round(np.array(model_loaded.predict([X_api]))).reshape(10,1)\n",
    "predictions={}\n",
    "for i,p in enumerate(y_pred_loaded):\n",
    "    predictions[f'Week {i+1}:']=p[0]\n",
    "predictions"
   ]
  }
 ],
 "metadata": {
  "kernelspec": {
   "display_name": "Python 3.10.6 64-bit ('UK-road-safety')",
   "language": "python",
   "name": "python3"
  },
  "language_info": {
   "codemirror_mode": {
    "name": "ipython",
    "version": 3
   },
   "file_extension": ".py",
   "mimetype": "text/x-python",
   "name": "python",
   "nbconvert_exporter": "python",
   "pygments_lexer": "ipython3",
   "version": "3.10.6"
  },
  "orig_nbformat": 4,
  "vscode": {
   "interpreter": {
    "hash": "4b1aeb74382e8f893234a3f4120a1c3d15ee715275f64b4c74d4725c92433881"
   }
  }
 },
 "nbformat": 4,
 "nbformat_minor": 2
}
